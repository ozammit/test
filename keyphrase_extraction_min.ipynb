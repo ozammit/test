{
 "cells": [
  {
   "cell_type": "markdown",
   "metadata": {},
   "source": [
    "<hr style=\"position: relative; border: none; top: 0px; height: 1px;   background: black;\"/>\n",
    "\n",
    "# Keyphrase Extraction Short Version\n",
    "\n",
    "<hr style=\"position: relative; border: none; top: 0px; height: 1px;   background: black;\"/>\n",
    "\n",
    "The keyphrase extraction function as presented in the paper."
   ]
  },
  {
   "cell_type": "code",
   "execution_count": 1,
   "metadata": {},
   "outputs": [],
   "source": [
    "from nltk.util import ngrams\n",
    "from collections import Counter\n",
    "import numpy as np"
   ]
  },
  {
   "cell_type": "code",
   "execution_count": 2,
   "metadata": {},
   "outputs": [],
   "source": [
    "# Method used to extract n-grams from a block of text.\n",
    "# tokens is the list of words that need to be grouped into n-grams\n",
    "# n_grams is the number of words each n-gram will have.\n",
    "def get_ngrams(tokens: list, n_grams: int) -> list:\n",
    "    n_grams_list = list(ngrams(tokens, n_grams))\n",
    "    n_grams_norm = []\n",
    "    for gram in n_grams_list:\n",
    "        gram_norm = []\n",
    "        for word in gram:\n",
    "            if word not in gram_norm:\n",
    "                gram_norm.append(word)\n",
    "        n_grams_norm.append(\" \".join(gram_norm))\n",
    "    return n_grams_norm\n",
    "\n",
    "# The proposed fucntion to generate automatically\n",
    "# n-grams from a block of text.\n",
    "# text is the text to extract n-grams\n",
    "# top_words return the top x keyphrases from the list.\n",
    "# start: the minimum words that a keyphrase can have.\n",
    "# end: the maximum words that a keyphrase can have.\n",
    "def get_keyphrase_list(text: str, top: int,\n",
    "                     start: int, end: int):\n",
    "    # Some clean up and split in tokens\n",
    "    text = text.lower().replace('\\n', ' ')\n",
    "    tokens = text.split(' ')\n",
    "    tokens = [x for x in tokens if x != '']\n",
    "    # Variable containing n-grams\n",
    "    com = {}\n",
    "    for n_grams_count in range(end, start - 1, -1):\n",
    "        # Get n-grams for text\n",
    "        current = get_ngrams(tokens, n_grams_count)\n",
    "        # Get the occurrence of each n-gram\n",
    "        # Using collections.Counter\n",
    "        cnt = Counter(current)\n",
    "        # Determine the mean occurrence value\n",
    "        # and get the words having more occurrence \n",
    "        # than the mean\n",
    "        mean = np.mean([x for x in cnt.values()])\n",
    "        mean = np.ceil(mean)\n",
    "        common =    cnt.most_common()\n",
    "        # Get words having more occurrence than mean\n",
    "        cnt = [[x, b] for x, b in common if b > mean]\n",
    "        # Check if the n-gram is already defined\n",
    "        for word, count in cnt:\n",
    "            # Get similar n-gram entries\n",
    "            sims = [x for x in com.keys()\n",
    "                 if len(set(word.split(' '))\n",
    "                 .intersection(set(x.split(' ')))) > 0]\n",
    "            if len(sims) == 0:\n",
    "                com[word] = count\n",
    "            else:\n",
    "                for sim in sims:\n",
    "                    com[sim] = com[sim] + count\n",
    "    # Return only top words\n",
    "    return dict(Counter(com).most_common(top))\n",
    "    "
   ]
  },
  {
   "cell_type": "code",
   "execution_count": 3,
   "metadata": {},
   "outputs": [],
   "source": [
    "text = \"\"\"\n",
    "Terry Pratchett's profoundly irreverent, bestselling novels have garnered him\n",
    "a revered position in the halls of parody next to the likes of Mark Twain, Kurt Vonnegut, \n",
    "Douglas Adams, and Carl Hiaasen. The Color of Magic is Terry Pratchett's maiden \n",
    "voyage through the now-legendary land of Discworld. This is where it all begins -- with \n",
    "the tourist Twoflower and his wizard guide, Rincewind. On a world supported on the back of a \n",
    "giant turtle (sex unknown), a gleeful, explosive, wickedly eccentric expedition sets out. \n",
    "There's an avaricious but inept wizard, a naive tourist whose luggage moves on hundreds of dear \n",
    "little legs, dragons who only exist if you believe in them, and of course THE EDGE of the planet..\n",
    "Born Terence David John Pratchett, Sir Terry Pratchett sol0d his first story when he was thirteen, \n",
    "which earned him enough money to buy a second-hand typewriter. His first novel, a humorous fantasy \n",
    "entitled The Carpet People, appeared in 1971 from the publisher Colin Smythe.\n",
    "Terry worked for many years as a journalist and press officer, writing in his spare time and publishing a\n",
    "number of novels, including his first Discworld novel, The Color of Magic, in 1983. In 1987, he turned to\n",
    "writing full time.There are over 40 books in the Discworld series, of which four are written for children.\n",
    "The first of these, The Amazing Maurice and His Educated Rodents, won the Carnegie Medal.\n",
    "A non-Discworld book, Good Omens, his 1990 collaboration with Neil Gaiman, has been a longtime bestseller \n",
    "and was reissued in hardcover by William Morrow in early 2006 (it is also available as a mass market \n",
    "paperback - Harper Torch, 2006 - and trade paperback - Harper Paperbacks, 2006).\n",
    "In 2008, Harper Children's published Terry's standalone non-Discworld YA novel, Nation. Terry\n",
    "published Snuff in October 2011. Regarded as one of the most significant contemporary English-language \n",
    "satirists, Pratchett has won numerous literary awards, was named an Officer of the British Empire (OBE) \n",
    "“for services to literature” in 1998, and has received honorary doctorates from the University of Warwick \n",
    "in 1999, the University of Portsmouth in 2001, the University of Bath in 2003, the University of Bristol in \n",
    "2004, Buckinghamshire New University in 2008, the University of Dublin in 2008, Bradford University in 2009, \n",
    "the University of Winchester in 2009, and The Open University in 2013 for his contribution to Public Service.\n",
    "In Dec. of 2007, Pratchett disclosed that he had been diagnosed with Alzheimer's disease. On 18 Feb, 2009, \n",
    "he was knighted by Queen Elizabeth II.He was awarded the World Fantasy Life Achievement Award in 2010.0\n",
    "Sir Terry Pratchett passed away on 12th March 2015. (\n",
    "\"\"\".lower()"
   ]
  },
  {
   "cell_type": "code",
   "execution_count": 4,
   "metadata": {},
   "outputs": [
    {
     "data": {
      "text/plain": [
       "{'the university of': 79,\n",
       " 'in 2008,': 32,\n",
       " 'his first': 15,\n",
       " 'a': 12,\n",
       " 'and': 10,\n",
       " 'terry': 6,\n",
       " 'to': 5,\n",
       " 'on': 5,\n",
       " 'was': 5,\n",
       " 'pratchett': 4}"
      ]
     },
     "execution_count": 4,
     "metadata": {},
     "output_type": "execute_result"
    }
   ],
   "source": [
    "get_keyphrase_list(text, 10, 1, 3)"
   ]
  }
 ],
 "metadata": {
  "kernelspec": {
   "display_name": "Python 3",
   "language": "python",
   "name": "python3"
  },
  "language_info": {
   "codemirror_mode": {
    "name": "ipython",
    "version": 3
   },
   "file_extension": ".py",
   "mimetype": "text/x-python",
   "name": "python",
   "nbconvert_exporter": "python",
   "pygments_lexer": "ipython3",
   "version": "3.6.9"
  }
 },
 "nbformat": 4,
 "nbformat_minor": 4
}
